{
  "nbformat": 4,
  "nbformat_minor": 0,
  "metadata": {
    "colab": {
      "provenance": []
    },
    "kernelspec": {
      "name": "python3",
      "display_name": "Python 3"
    },
    "language_info": {
      "name": "python"
    }
  },
  "cells": [
    {
      "cell_type": "markdown",
      "source": [
        "Load the Diamonds dataset into a pandas DataFrame.\n",
        "Calculate the average price for each cut of diamonds.\n"
      ],
      "metadata": {
        "id": "pFbw8p-zy5NZ"
      }
    },
    {
      "cell_type": "code",
      "execution_count": 1,
      "metadata": {
        "colab": {
          "base_uri": "https://localhost:8080/"
        },
        "id": "XfNixPL6yzEA",
        "outputId": "2c31631e-2044-4812-d2d0-d59deb740bb1"
      },
      "outputs": [
        {
          "output_type": "stream",
          "name": "stdout",
          "text": [
            "   carat      cut color clarity  depth  table  price     x     y     z\n",
            "0   0.23    Ideal     E     SI2   61.5   55.0    326  3.95  3.98  2.43\n",
            "1   0.21  Premium     E     SI1   59.8   61.0    326  3.89  3.84  2.31\n",
            "2   0.23     Good     E     VS1   56.9   65.0    327  4.05  4.07  2.31\n",
            "3   0.29  Premium     I     VS2   62.4   58.0    334  4.20  4.23  2.63\n",
            "4   0.31     Good     J     SI2   63.3   58.0    335  4.34  4.35  2.75\n",
            "cut\n",
            "Ideal        3457.541970\n",
            "Premium      4584.257704\n",
            "Very Good    3981.759891\n",
            "Good         3928.864452\n",
            "Fair         4358.757764\n",
            "Name: price, dtype: float64\n"
          ]
        }
      ],
      "source": [
        "import seaborn as sns\n",
        "\n",
        "# Load the Diamonds dataset from Seaborn\n",
        "diamonds_df = sns.load_dataset('diamonds')\n",
        "\n",
        "# Displaying the first few rows of the dataset to understand its structure\n",
        "print(diamonds_df.head())\n",
        "\n",
        "# Calculating the average price for each cut\n",
        "average_price_by_cut = diamonds_df.groupby('cut')['price'].mean()\n",
        "\n",
        "print(average_price_by_cut)\n"
      ]
    },
    {
      "cell_type": "markdown",
      "source": [
        "Find the diamond with the highest carat and display its details, including its cut, color, and clarity."
      ],
      "metadata": {
        "id": "gShguJDszYD_"
      }
    },
    {
      "cell_type": "code",
      "source": [
        "import seaborn as sns\n",
        "\n",
        "# Load the Diamonds dataset from Seaborn\n",
        "diamonds_df = sns.load_dataset('diamonds')\n",
        "\n",
        "# Find the diamond with the highest carat\n",
        "highest_carat_diamond = diamonds_df.loc[diamonds_df['carat'].idxmax()]\n",
        "\n",
        "# Displaying details of the diamond with the highest carat\n",
        "print(\"Details of the diamond with the highest carat:\")\n",
        "print(f\"Carat: {highest_carat_diamond['carat']}\")\n",
        "print(f\"Cut: {highest_carat_diamond['cut']}\")\n",
        "print(f\"Color: {highest_carat_diamond['color']}\")\n",
        "print(f\"Clarity: {highest_carat_diamond['clarity']}\")\n"
      ],
      "metadata": {
        "colab": {
          "base_uri": "https://localhost:8080/"
        },
        "id": "VfWhDXaYzFj8",
        "outputId": "169e8439-2fb2-492d-9b01-78890c3aefb8"
      },
      "execution_count": 2,
      "outputs": [
        {
          "output_type": "stream",
          "name": "stdout",
          "text": [
            "Details of the diamond with the highest carat:\n",
            "Carat: 5.01\n",
            "Cut: Fair\n",
            "Color: J\n",
            "Clarity: I1\n"
          ]
        }
      ]
    },
    {
      "cell_type": "markdown",
      "source": [
        "Create a new DataFrame containing only the diamonds with 'cut' as 'Ideal' and 'color' as 'D'.\n"
      ],
      "metadata": {
        "id": "zTBBKsKSzoqr"
      }
    },
    {
      "cell_type": "code",
      "source": [
        "import seaborn as sns\n",
        "import pandas as pd\n",
        "\n",
        "# Load the Diamonds dataset from Seaborn\n",
        "diamonds_df = sns.load_dataset('diamonds')\n",
        "\n",
        "# Create a new DataFrame with diamonds having cut as 'Ideal' and color as 'D'\n",
        "ideal_d_color_diamonds = diamonds_df[(diamonds_df['cut'] == 'Ideal') & (diamonds_df['color'] == 'D')]\n",
        "\n",
        "# Displaying the first few rows of the new DataFrame to verify\n",
        "print(ideal_d_color_diamonds.head())\n"
      ],
      "metadata": {
        "colab": {
          "base_uri": "https://localhost:8080/"
        },
        "id": "b3iXst8rzjBL",
        "outputId": "5da9144c-6701-464c-e062-d07d637e469e"
      },
      "execution_count": 3,
      "outputs": [
        {
          "output_type": "stream",
          "name": "stdout",
          "text": [
            "     carat    cut color clarity  depth  table  price     x     y     z\n",
            "62    0.30  Ideal     D     SI1   62.5   57.0    552  4.29  4.32  2.69\n",
            "63    0.30  Ideal     D     SI1   62.1   56.0    552  4.30  4.33  2.68\n",
            "120   0.71  Ideal     D     SI2   62.3   56.0   2762  5.73  5.69  3.56\n",
            "132   0.71  Ideal     D     SI1   61.9   59.0   2764  5.69  5.72  3.53\n",
            "144   0.71  Ideal     D     SI2   61.6   55.0   2767  5.74  5.76  3.54\n"
          ]
        }
      ]
    },
    {
      "cell_type": "markdown",
      "source": [
        "Calculate the correlation matrix for 'carat', 'depth', 'table', and 'price' columns."
      ],
      "metadata": {
        "id": "Kro3Icj7z3Mc"
      }
    },
    {
      "cell_type": "code",
      "source": [
        "import seaborn as sns\n",
        "import pandas as pd\n",
        "\n",
        "# Load the Diamonds dataset from Seaborn\n",
        "diamonds_df = sns.load_dataset('diamonds')\n",
        "\n",
        "# Select the columns of interest\n",
        "columns_of_interest = ['carat', 'depth', 'table', 'price']\n",
        "\n",
        "# Calculate the correlation matrix\n",
        "correlation_matrix = diamonds_df[columns_of_interest].corr()\n",
        "\n",
        "# Display the correlation matrix\n",
        "print(\"Correlation Matrix:\")\n",
        "print(correlation_matrix)\n"
      ],
      "metadata": {
        "colab": {
          "base_uri": "https://localhost:8080/"
        },
        "id": "uw3VCRPZzvvJ",
        "outputId": "2be04cb1-198b-4a2e-dcbd-4a9c95ba2e46"
      },
      "execution_count": 4,
      "outputs": [
        {
          "output_type": "stream",
          "name": "stdout",
          "text": [
            "Correlation Matrix:\n",
            "          carat     depth     table     price\n",
            "carat  1.000000  0.028224  0.181618  0.921591\n",
            "depth  0.028224  1.000000 -0.295779 -0.010647\n",
            "table  0.181618 -0.295779  1.000000  0.127134\n",
            "price  0.921591 -0.010647  0.127134  1.000000\n"
          ]
        }
      ]
    },
    {
      "cell_type": "markdown",
      "source": [
        "For each clarity grade of diamonds, find the mean, median, minimum, and maximum 'carat'.\n"
      ],
      "metadata": {
        "id": "ha-dGhzE0CDq"
      }
    },
    {
      "cell_type": "code",
      "source": [
        "import seaborn as sns\n",
        "import pandas as pd\n",
        "\n",
        "# Load the Diamonds dataset from Seaborn\n",
        "diamonds_df = sns.load_dataset('diamonds')\n",
        "\n",
        "# Group by clarity and calculate statistics for carat\n",
        "stats_by_clarity = diamonds_df.groupby('clarity')['carat'].agg(['mean', 'median', 'min', 'max'])\n",
        "\n",
        "# Display the statistics\n",
        "print(\"Statistics for carat by clarity grade:\")\n",
        "print(stats_by_clarity)\n"
      ],
      "metadata": {
        "colab": {
          "base_uri": "https://localhost:8080/"
        },
        "id": "iXZ-GBsIz9sY",
        "outputId": "b4869cee-743e-412e-aacd-b69895bfa3c7"
      },
      "execution_count": 5,
      "outputs": [
        {
          "output_type": "stream",
          "name": "stdout",
          "text": [
            "Statistics for carat by clarity grade:\n",
            "             mean  median   min   max\n",
            "clarity                              \n",
            "IF       0.505123    0.35  0.23  2.29\n",
            "VVS1     0.503321    0.39  0.23  2.31\n",
            "VVS2     0.596202    0.44  0.23  2.07\n",
            "VS1      0.727158    0.57  0.23  2.59\n",
            "VS2      0.763935    0.63  0.20  3.51\n",
            "SI1      0.850482    0.76  0.21  2.57\n",
            "SI2      1.077648    1.01  0.20  3.04\n",
            "I1       1.283846    1.12  0.30  5.01\n"
          ]
        }
      ]
    },
    {
      "cell_type": "code",
      "source": [
        "import seaborn as sns\n",
        "import matplotlib.pyplot as plt\n",
        "\n",
        "# Load the Diamonds dataset from Seaborn\n",
        "diamonds_df = sns.load_dataset('diamonds')\n",
        "\n",
        "# Set up the figure with a single subplot\n",
        "plt.figure(figsize=(10, 6))\n",
        "\n",
        "# Plot a histogram of the 'carat' column\n",
        "sns.histplot(diamonds_df['carat'], bins=30, kde=True, color='blue', edgecolor='black')\n",
        "\n",
        "# Add labels and title\n",
        "plt.xlabel('Carat')\n",
        "plt.ylabel('Frequency')\n",
        "plt.title('Distribution of Carat Values')\n",
        "\n",
        "# Display the plot\n",
        "plt.tight_layout()\n",
        "plt.show()\n"
      ],
      "metadata": {
        "colab": {
          "base_uri": "https://localhost:8080/",
          "height": 392
        },
        "id": "ERB45cOc0P3e",
        "outputId": "0cfa39f9-e4cf-4894-d1fd-6234b5bdbc85"
      },
      "execution_count": 6,
      "outputs": [
        {
          "output_type": "display_data",
          "data": {
            "text/plain": [
              "<Figure size 1000x600 with 1 Axes>"
            ],
            "image/png": "[encoded data removed]"
          },
          "metadata": {}
        }
      ]
    },
    {
      "cell_type": "code",
      "source": [
        "import seaborn as sns\n",
        "import matplotlib.pyplot as plt\n",
        "\n",
        "# Load the Diamonds dataset from Seaborn\n",
        "diamonds_df = sns.load_dataset('diamonds')\n",
        "\n",
        "# Set up the figure with a single subplot\n",
        "plt.figure(figsize=(10, 6))\n",
        "\n",
        "# Plot a histogram of the 'price' column\n",
        "sns.histplot(diamonds_df['price'], bins=30, kde=True, color='green', edgecolor='black')\n",
        "\n",
        "# Add labels and title\n",
        "plt.xlabel('Price')\n",
        "plt.ylabel('Frequency')\n",
        "plt.title('Distribution of Diamond Prices')\n",
        "\n",
        "# Display the plot\n",
        "plt.tight_layout()\n",
        "plt.show()\n"
      ],
      "metadata": {
        "colab": {
          "base_uri": "https://localhost:8080/",
          "height": 392
        },
        "id": "iyCy5oV90VMJ",
        "outputId": "6ebc8830-9a81-4c78-d0d2-bb782f0b5048"
      },
      "execution_count": 7,
      "outputs": [
        {
          "output_type": "display_data",
          "data": {
            "text/plain": [
              "<Figure size 1000x600 with 1 Axes>"
            ],
            "image/png": "[encoded data removed]"
          },
          "metadata": {}
        }
      ]
    },
    {
      "cell_type": "markdown",
      "source": [
        "Replace any missing values in the 'depth' column with the mean value of that column."
      ],
      "metadata": {
        "id": "hHsNceqr0CCu"
      }
    },
    {
      "cell_type": "code",
      "source": [
        "import seaborn as sns\n",
        "import pandas as pd\n",
        "\n",
        "# Load the Diamonds dataset from Seaborn\n",
        "diamonds_df = sns.load_dataset('diamonds')\n",
        "\n",
        "# Calculate the mean of the 'depth' column\n",
        "mean_depth = diamonds_df['depth'].mean()\n",
        "\n",
        "# Replace missing values in 'depth' with the mean\n",
        "diamonds_df['depth'].fillna(mean_depth, inplace=True)\n",
        "\n",
        "# Verify if there are any more missing values in 'depth'\n",
        "print(\"Number of missing values in 'depth' after replacement:\", diamonds_df['depth'].isnull().sum())\n"
      ],
      "metadata": {
        "colab": {
          "base_uri": "https://localhost:8080/"
        },
        "id": "_jBBl6fV0hR7",
        "outputId": "8055b0f9-7c5d-4a80-f27f-ad4fd1cadf6f"
      },
      "execution_count": 8,
      "outputs": [
        {
          "output_type": "stream",
          "name": "stdout",
          "text": [
            "Number of missing values in 'depth' after replacement: 0\n"
          ]
        }
      ]
    },
    {
      "cell_type": "markdown",
      "source": [
        "Create a new column in the DataFrame called 'volume', which is the product of 'x', 'y', and 'z' columns.\n"
      ],
      "metadata": {
        "id": "krZx3Jlb0Bo-"
      }
    },
    {
      "cell_type": "code",
      "source": [
        "import seaborn as sns\n",
        "import pandas as pd\n",
        "\n",
        "# Load the Diamonds dataset from Seaborn\n",
        "diamonds_df = sns.load_dataset('diamonds')\n",
        "\n",
        "# Calculate the volume as the product of 'x', 'y', and 'z' columns\n",
        "diamonds_df['volume'] = diamonds_df['x'] * diamonds_df['y'] * diamonds_df['z']\n",
        "\n",
        "# Display the updated DataFrame with the new 'volume' column\n",
        "print(diamonds_df.head())\n"
      ],
      "metadata": {
        "colab": {
          "base_uri": "https://localhost:8080/"
        },
        "id": "gl4g3j-H0l7Z",
        "outputId": "959c4d91-1431-4f9f-fd8c-899ce1a19032"
      },
      "execution_count": 9,
      "outputs": [
        {
          "output_type": "stream",
          "name": "stdout",
          "text": [
            "   carat      cut color clarity  depth  table  price     x     y     z  \\\n",
            "0   0.23    Ideal     E     SI2   61.5   55.0    326  3.95  3.98  2.43   \n",
            "1   0.21  Premium     E     SI1   59.8   61.0    326  3.89  3.84  2.31   \n",
            "2   0.23     Good     E     VS1   56.9   65.0    327  4.05  4.07  2.31   \n",
            "3   0.29  Premium     I     VS2   62.4   58.0    334  4.20  4.23  2.63   \n",
            "4   0.31     Good     J     SI2   63.3   58.0    335  4.34  4.35  2.75   \n",
            "\n",
            "      volume  \n",
            "0  38.202030  \n",
            "1  34.505856  \n",
            "2  38.076885  \n",
            "3  46.724580  \n",
            "4  51.917250  \n"
          ]
        }
      ]
    },
    {
      "cell_type": "markdown",
      "source": [
        "Group the DataFrame by 'cut' and 'color' and calculate the average price and carat for each group"
      ],
      "metadata": {
        "id": "RB0Nue010xFP"
      }
    },
    {
      "cell_type": "code",
      "source": [
        "import seaborn as sns\n",
        "import pandas as pd\n",
        "\n",
        "# Load the Diamonds dataset from Seaborn\n",
        "diamonds_df = sns.load_dataset('diamonds')\n",
        "\n",
        "# Group by 'cut' and 'color', then calculate average price and carat\n",
        "grouped_data = diamonds_df.groupby(['cut', 'color']).agg({\n",
        "    'price': 'mean',\n",
        "    'carat': 'mean'\n",
        "}).reset_index()  # reset_index() to flatten the multi-index from groupby\n",
        "\n",
        "# Display the grouped data\n",
        "print(grouped_data)\n"
      ],
      "metadata": {
        "colab": {
          "base_uri": "https://localhost:8080/"
        },
        "id": "dllFMW3b0sqX",
        "outputId": "1b9c9f94-d48d-49c8-d58e-f3cfe69e34ef"
      },
      "execution_count": 10,
      "outputs": [
        {
          "output_type": "stream",
          "name": "stdout",
          "text": [
            "          cut color        price     carat\n",
            "0       Ideal     D  2629.094566  0.565766\n",
            "1       Ideal     E  2597.550090  0.578401\n",
            "2       Ideal     F  3374.939362  0.655829\n",
            "3       Ideal     G  3720.706388  0.700715\n",
            "4       Ideal     H  3889.334831  0.799525\n",
            "5       Ideal     I  4451.970377  0.913029\n",
            "6       Ideal     J  4918.186384  1.063594\n",
            "7     Premium     D  3631.292576  0.721547\n",
            "8     Premium     E  3538.914420  0.717745\n",
            "9     Premium     F  4324.890176  0.827036\n",
            "10    Premium     G  4500.742134  0.841488\n",
            "11    Premium     H  5216.706780  1.016449\n",
            "12    Premium     I  5946.180672  1.144937\n",
            "13    Premium     J  6294.591584  1.293094\n",
            "14  Very Good     D  3470.467284  0.696424\n",
            "15  Very Good     E  3214.652083  0.676317\n",
            "16  Very Good     F  3778.820240  0.740961\n",
            "17  Very Good     G  3872.753806  0.766799\n",
            "18  Very Good     H  4535.390351  0.915948\n",
            "19  Very Good     I  5255.879568  1.046952\n",
            "20  Very Good     J  5103.513274  1.133215\n",
            "21       Good     D  3405.382175  0.744517\n",
            "22       Good     E  3423.644159  0.745134\n",
            "23       Good     F  3495.750275  0.775930\n",
            "24       Good     G  4123.482204  0.850896\n",
            "25       Good     H  4276.254986  0.914729\n",
            "26       Good     I  5078.532567  1.057222\n",
            "27       Good     J  4574.172638  1.099544\n",
            "28       Fair     D  4291.061350  0.920123\n",
            "29       Fair     E  3682.312500  0.856607\n",
            "30       Fair     F  3827.003205  0.904712\n",
            "31       Fair     G  4239.254777  1.023822\n",
            "32       Fair     H  5135.683168  1.219175\n",
            "33       Fair     I  4685.445714  1.198057\n",
            "34       Fair     J  4975.655462  1.341176\n"
          ]
        }
      ]
    },
    {
      "cell_type": "markdown",
      "source": [
        "Calculate the total count of diamonds for each 'cut' and 'clarity' combination.\n"
      ],
      "metadata": {
        "id": "vuRnWl0u1BEj"
      }
    },
    {
      "cell_type": "code",
      "source": [
        "import seaborn as sns\n",
        "import pandas as pd\n",
        "\n",
        "# Load the Diamonds dataset from Seaborn\n",
        "diamonds_df = sns.load_dataset('diamonds')\n",
        "\n",
        "# Group by 'cut' and 'clarity', then calculate total count of diamonds\n",
        "count_by_cut_clarity = diamonds_df.groupby(['cut', 'clarity']).size().reset_index(name='count')\n",
        "\n",
        "# Display the count data\n",
        "print(count_by_cut_clarity)\n"
      ],
      "metadata": {
        "colab": {
          "base_uri": "https://localhost:8080/"
        },
        "id": "G4hsLzA207WX",
        "outputId": "b41184d8-cec6-4035-d8a3-ac141847636a"
      },
      "execution_count": 11,
      "outputs": [
        {
          "output_type": "stream",
          "name": "stdout",
          "text": [
            "          cut clarity  count\n",
            "0       Ideal      IF   1212\n",
            "1       Ideal    VVS1   2047\n",
            "2       Ideal    VVS2   2606\n",
            "3       Ideal     VS1   3589\n",
            "4       Ideal     VS2   5071\n",
            "5       Ideal     SI1   4282\n",
            "6       Ideal     SI2   2598\n",
            "7       Ideal      I1    146\n",
            "8     Premium      IF    230\n",
            "9     Premium    VVS1    616\n",
            "10    Premium    VVS2    870\n",
            "11    Premium     VS1   1989\n",
            "12    Premium     VS2   3357\n",
            "13    Premium     SI1   3575\n",
            "14    Premium     SI2   2949\n",
            "15    Premium      I1    205\n",
            "16  Very Good      IF    268\n",
            "17  Very Good    VVS1    789\n",
            "18  Very Good    VVS2   1235\n",
            "19  Very Good     VS1   1775\n",
            "20  Very Good     VS2   2591\n",
            "21  Very Good     SI1   3240\n",
            "22  Very Good     SI2   2100\n",
            "23  Very Good      I1     84\n",
            "24       Good      IF     71\n",
            "25       Good    VVS1    186\n",
            "26       Good    VVS2    286\n",
            "27       Good     VS1    648\n",
            "28       Good     VS2    978\n",
            "29       Good     SI1   1560\n",
            "30       Good     SI2   1081\n",
            "31       Good      I1     96\n",
            "32       Fair      IF      9\n",
            "33       Fair    VVS1     17\n",
            "34       Fair    VVS2     69\n",
            "35       Fair     VS1    170\n",
            "36       Fair     VS2    261\n",
            "37       Fair     SI1    408\n",
            "38       Fair     SI2    466\n",
            "39       Fair      I1    210\n"
          ]
        }
      ]
    },
    {
      "cell_type": "code",
      "source": [],
      "metadata": {
        "id": "E-vAj2MQ1IvH"
      },
      "execution_count": null,
      "outputs": []
    }
  ]
}